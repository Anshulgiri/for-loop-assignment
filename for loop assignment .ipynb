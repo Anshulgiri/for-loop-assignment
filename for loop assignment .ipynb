{
 "cells": [
  {
   "cell_type": "code",
   "execution_count": 1,
   "id": "33e44a76-e4ac-43be-8278-29821f2466f7",
   "metadata": {},
   "outputs": [],
   "source": [
    "#for loop"
   ]
  },
  {
   "cell_type": "code",
   "execution_count": 2,
   "id": "f588624a-9776-48b2-bb2d-a1e3d6c96897",
   "metadata": {},
   "outputs": [
    {
     "name": "stdout",
     "output_type": "stream",
     "text": [
      "1\n",
      "2\n",
      "3\n",
      "4\n",
      "5\n",
      "6\n",
      "7\n",
      "8\n",
      "9\n",
      "10\n"
     ]
    }
   ],
   "source": [
    "for i in range(1,11):\n",
    "    print(i)"
   ]
  },
  {
   "cell_type": "code",
   "execution_count": 3,
   "id": "0db35665-ea4f-4b6e-b207-8974597446af",
   "metadata": {},
   "outputs": [
    {
     "name": "stdout",
     "output_type": "stream",
     "text": [
      "sum of the list is: 146\n"
     ]
    }
   ],
   "source": [
    "list = [1,2,4,6,56,43,34]\n",
    "sum=0\n",
    "for i in list:\n",
    "    sum=sum+i\n",
    "print(\"sum of the list is:\", sum)"
   ]
  },
  {
   "cell_type": "code",
   "execution_count": 7,
   "id": "ff931add-d4bb-496d-b910-8fa78e6cab6a",
   "metadata": {},
   "outputs": [
    {
     "name": "stdin",
     "output_type": "stream",
     "text": [
      "enter the no: 5\n"
     ]
    },
    {
     "name": "stdout",
     "output_type": "stream",
     "text": [
      "120\n"
     ]
    }
   ],
   "source": [
    "n=int(input(\"enter the no:\"))\n",
    "factorial = 1\n",
    "for i in range(1,n+1):\n",
    "    factorial = factorial*i\n",
    "print(factorial)    \n",
    "      "
   ]
  },
  {
   "cell_type": "code",
   "execution_count": 9,
   "id": "388f0125-b12f-4188-874c-a26f4bf8e09a",
   "metadata": {},
   "outputs": [
    {
     "name": "stdin",
     "output_type": "stream",
     "text": [
      "enter the no: 5\n"
     ]
    },
    {
     "name": "stdout",
     "output_type": "stream",
     "text": [
      "5\n",
      "10\n",
      "15\n",
      "20\n",
      "25\n",
      "30\n",
      "35\n",
      "40\n",
      "45\n",
      "50\n"
     ]
    }
   ],
   "source": [
    "n = int(input('enter the no:'))\n",
    "i=1\n",
    "for i in range(1,11):\n",
    "    print(n*i)"
   ]
  },
  {
   "cell_type": "code",
   "execution_count": 10,
   "id": "6e7e0cf0-70b6-490c-b9ba-77d5fcad8ab5",
   "metadata": {},
   "outputs": [
    {
     "name": "stdout",
     "output_type": "stream",
     "text": [
      "even number in list 6\n",
      "odd number in list 4\n"
     ]
    }
   ],
   "source": [
    "list = [2,3,4,5,6,7,8,34,54,33]\n",
    "even = 0\n",
    "odd = 0\n",
    "for i in list:\n",
    "    if(i%2==0):\n",
    "        even = even +1\n",
    "    else:\n",
    "        odd = odd+1\n",
    "print(\"even number in list\", even)\n",
    "print(\"odd number in list\",odd)"
   ]
  },
  {
   "cell_type": "code",
   "execution_count": 11,
   "id": "cb2138a4-06b5-43cb-9a14-05851df22500",
   "metadata": {},
   "outputs": [
    {
     "name": "stdout",
     "output_type": "stream",
     "text": [
      "[0, 1, 4, 9, 16, 25]\n"
     ]
    }
   ],
   "source": [
    "squares = []\n",
    "for i in range (6):\n",
    "    squares.append(i**2)\n",
    "print([i**2 for i in range(6)])    "
   ]
  },
  {
   "cell_type": "code",
   "execution_count": 12,
   "id": "69bb31e7-c4f5-4595-8600-805e0ab749ff",
   "metadata": {},
   "outputs": [
    {
     "name": "stdin",
     "output_type": "stream",
     "text": [
      "enter string anshul\n"
     ]
    },
    {
     "name": "stdout",
     "output_type": "stream",
     "text": [
      "length of the string is: 6\n"
     ]
    }
   ],
   "source": [
    "a = input('enter string')\n",
    "count = 0\n",
    "for i in a:\n",
    "    count = count+1\n",
    "print('length of the string is:', count)    "
   ]
  },
  {
   "cell_type": "code",
   "execution_count": 13,
   "id": "b118431a-aaa7-4e27-943a-ddefc16d286d",
   "metadata": {},
   "outputs": [
    {
     "name": "stdin",
     "output_type": "stream",
     "text": [
      "enter the number1 4\n",
      "enter the number2 6\n",
      "enter the number3 8\n"
     ]
    },
    {
     "name": "stdout",
     "output_type": "stream",
     "text": [
      "the average of number is: 6.0\n"
     ]
    }
   ],
   "source": [
    "n1 = int(input(\"enter the number1\"))\n",
    "n2 = int(input(\"enter the number2\"))\n",
    "n3 = int(input(\"enter the number3\"))\n",
    "sum = n1+n2+n3\n",
    "avg = sum/3\n",
    "print(\"the average of number is:\", avg)"
   ]
  },
  {
   "cell_type": "code",
   "execution_count": 14,
   "id": "b44f6cc1-9a30-489c-a0e8-de1f0bb0474a",
   "metadata": {},
   "outputs": [
    {
     "name": "stdout",
     "output_type": "stream",
     "text": [
      "0\n",
      "1\n"
     ]
    },
    {
     "name": "stdin",
     "output_type": "stream",
     "text": [
      "upto ehich element: 10\n"
     ]
    },
    {
     "name": "stdout",
     "output_type": "stream",
     "text": [
      "1\n",
      "2\n",
      "3\n",
      "5\n",
      "8\n",
      "13\n",
      "21\n",
      "34\n",
      "55\n"
     ]
    }
   ],
   "source": [
    "first = 0\n",
    "second = 1\n",
    "print(first)\n",
    "print(second)\n",
    "N=  int(input('upto ehich element:'))\n",
    "for i in range(1,N):\n",
    "    third = first+second\n",
    "    print(third)\n",
    "    first,second=second,third"
   ]
  },
  {
   "cell_type": "code",
   "execution_count": 15,
   "id": "5402037c-a2c5-42ea-8040-5c083752820f",
   "metadata": {},
   "outputs": [],
   "source": [
    "#intermediate level"
   ]
  },
  {
   "cell_type": "code",
   "execution_count": 1,
   "id": "09d860de-7603-4361-aff0-60251d5f4019",
   "metadata": {},
   "outputs": [
    {
     "name": "stdout",
     "output_type": "stream",
     "text": [
      "[2, 3, 4, 5]\n"
     ]
    }
   ],
   "source": [
    "li = [2,3,4,5,4,5,4,5]\n",
    "new_list = list ()\n",
    "for i in li:\n",
    "    if i not in new_list:\n",
    "        new_list.append(i)\n",
    "print(new_list)        "
   ]
  },
  {
   "cell_type": "code",
   "execution_count": 5,
   "id": "262e6be2-dd9d-4812-8074-2f2280e0a9e9",
   "metadata": {},
   "outputs": [
    {
     "name": "stdout",
     "output_type": "stream",
     "text": [
      "2 3 5 7 11 13 17 19 "
     ]
    }
   ],
   "source": [
    "for i in range(1,20):\n",
    "    c=0\n",
    "    for j in range(2,(i//2+1)):\n",
    "        if i%j==0:\n",
    "            c+=1\n",
    "            break\n",
    "    if c==0 and i!=1:\n",
    "        print(i,end=' ')\n",
    "                   "
   ]
  },
  {
   "cell_type": "code",
   "execution_count": 6,
   "id": "54b18fba-0077-4a23-905d-37e73ce2148a",
   "metadata": {},
   "outputs": [
    {
     "name": "stdin",
     "output_type": "stream",
     "text": [
      "enter a string: Anshul Giri\n"
     ]
    },
    {
     "name": "stdout",
     "output_type": "stream",
     "text": [
      "no of vowels are: 3\n"
     ]
    }
   ],
   "source": [
    "string = str(input(\"enter a string:\"))\n",
    "vowels = 0\n",
    "for i in string:\n",
    "    if(i=='a' or i=='e' or i=='i' or i=='o' or i=='u'):\n",
    "        vowels = vowels+1\n",
    "print(\"no of vowels are:\", vowels)        \n",
    "             "
   ]
  },
  {
   "cell_type": "code",
   "execution_count": 7,
   "id": "eafb0770-3b29-43e6-9bbd-3f393b0fc44b",
   "metadata": {},
   "outputs": [
    {
     "name": "stdout",
     "output_type": "stream",
     "text": [
      "[31, 29, 4, 56]\n"
     ]
    }
   ],
   "source": [
    "nums = [31,29,4,5,5,56,5]\n",
    "frequency = nums.count(5)\n",
    "for i in range(frequency):\n",
    "    nums.remove(5)\n",
    "print(nums)    \n"
   ]
  },
  {
   "cell_type": "code",
   "execution_count": 8,
   "id": "aa019932-6b98-47ff-b6e6-8d86d11d8792",
   "metadata": {},
   "outputs": [
    {
     "name": "stdout",
     "output_type": "stream",
     "text": [
      "1 * 1 = 1\n",
      "1 * 2 = 2\n",
      "1 * 3 = 3\n",
      "1 * 4 = 4\n",
      "1 * 5 = 5\n",
      "\n",
      "2 * 1 = 2\n",
      "2 * 2 = 4\n",
      "2 * 3 = 6\n",
      "2 * 4 = 8\n",
      "2 * 5 = 10\n",
      "\n",
      "3 * 1 = 3\n",
      "3 * 2 = 6\n",
      "3 * 3 = 9\n",
      "3 * 4 = 12\n",
      "3 * 5 = 15\n",
      "\n",
      "4 * 1 = 4\n",
      "4 * 2 = 8\n",
      "4 * 3 = 12\n",
      "4 * 4 = 16\n",
      "4 * 5 = 20\n",
      "\n",
      "5 * 1 = 5\n",
      "5 * 2 = 10\n",
      "5 * 3 = 15\n",
      "5 * 4 = 20\n",
      "5 * 5 = 25\n",
      "\n"
     ]
    }
   ],
   "source": [
    "for x in range (1,6):\n",
    "    for y in range(1,6):\n",
    "        print(x,\"*\",y,\"=\",x*y)\n",
    "    else:\n",
    "        print(\"\")"
   ]
  },
  {
   "cell_type": "code",
   "execution_count": 10,
   "id": "5b3deb4a-b723-4772-b544-e7093f7d33d1",
   "metadata": {},
   "outputs": [
    {
     "name": "stdin",
     "output_type": "stream",
     "text": [
      "list 1: 23,45,67,89,3,4,6\n",
      "list 2: 45,67,2,3,4,8,9,1\n"
     ]
    },
    {
     "name": "stdout",
     "output_type": "stream",
     "text": [
      "common elements:\n",
      "[45, 67, 3, 4]\n"
     ]
    }
   ],
   "source": [
    "A=eval(input('list 1:'))\n",
    "B=eval(input('list 2:'))\n",
    "C= []\n",
    "for i in A:\n",
    "    for j in B:\n",
    "        if i==j:\n",
    "            C.append(i)\n",
    "print('common elements:')\n",
    "print(C)"
   ]
  },
  {
   "cell_type": "code",
   "execution_count": 11,
   "id": "7e7bf949-9d56-4f2a-9776-6434c432a54f",
   "metadata": {},
   "outputs": [
    {
     "name": "stdout",
     "output_type": "stream",
     "text": [
      "* \n",
      "* * \n",
      "* * * \n",
      "* * * * \n",
      "* * * * * \n"
     ]
    }
   ],
   "source": [
    "for i in range(1,6):\n",
    "    for j in range(1,i+1):\n",
    "        print('*',end = ' ' )\n",
    "    print()    "
   ]
  },
  {
   "cell_type": "code",
   "execution_count": 1,
   "id": "b1ff1939-bcd3-4061-a3bb-df71f810ec2f",
   "metadata": {},
   "outputs": [
    {
     "name": "stdin",
     "output_type": "stream",
     "text": [
      "num1:  24\n",
      "num2:  12\n"
     ]
    },
    {
     "name": "stdout",
     "output_type": "stream",
     "text": [
      "12\n"
     ]
    }
   ],
   "source": [
    "num1 = int(input(\"num1: \"))\n",
    "num2 = int(input(\"num2: \"))\n",
    "if num1 < num2:\n",
    "    smaller = num1\n",
    "else:\n",
    "    smaller = num2\n",
    "for i in range(1, smaller+1):\n",
    "    if (num1%i == 0) and (num2%i == 0):\n",
    "        gcd = i\n",
    "print(gcd)       "
   ]
  },
  {
   "cell_type": "code",
   "execution_count": 3,
   "id": "606049c3-7cc7-4672-80db-fc9e9354b4af",
   "metadata": {},
   "outputs": [
    {
     "name": "stdin",
     "output_type": "stream",
     "text": [
      " 14567\n"
     ]
    },
    {
     "name": "stdout",
     "output_type": "stream",
     "text": [
      "23\n"
     ]
    }
   ],
   "source": [
    "number = input()\n",
    "print(sum([int(i) for i in number]))\n"
   ]
  },
  {
   "cell_type": "code",
   "execution_count": 4,
   "id": "57fa86ae-6d27-4f47-8c4d-35d701acbef5",
   "metadata": {},
   "outputs": [
    {
     "name": "stdin",
     "output_type": "stream",
     "text": [
      "enter a number 50\n"
     ]
    },
    {
     "name": "stdout",
     "output_type": "stream",
     "text": [
      "1\n",
      "2\n",
      "5\n",
      "10\n",
      "25\n",
      "50\n"
     ]
    }
   ],
   "source": [
    "n = int(input(\"enter a number\"))\n",
    "for x in range(1, n+1):\n",
    "    if n%x== 0:\n",
    "        print(x)"
   ]
  },
  {
   "cell_type": "code",
   "execution_count": 6,
   "id": "59f58f6d-76e9-4d06-9e13-c6dc8d2c00c9",
   "metadata": {},
   "outputs": [
    {
     "name": "stdout",
     "output_type": "stream",
     "text": [
      "[1, 4, 5, 3, 2]\n"
     ]
    }
   ],
   "source": [
    "list = [1,4,5,3,2,3,5,4,4]\n",
    "unique_list = []\n",
    "for a in list:\n",
    "    if a not in unique_list:\n",
    "        unique_list.append(a)\n",
    "print(unique_list)        "
   ]
  },
  {
   "cell_type": "code",
   "execution_count": 7,
   "id": "84dafd53-120d-41ef-8d3a-77ecfd14c8e6",
   "metadata": {},
   "outputs": [
    {
     "name": "stdout",
     "output_type": "stream",
     "text": [
      "[1, 2, 3, 4, 5, 6, 7, 8]\n"
     ]
    }
   ],
   "source": [
    "list = [[1,2],[3,4],[5,6],[7,8]]\n",
    "flat = [num for sublist in list for num in sublist]\n",
    "print(flat)"
   ]
  },
  {
   "cell_type": "code",
   "execution_count": 9,
   "id": "9a6936e7-b711-4ede-8cb8-dc6ff2af9f05",
   "metadata": {},
   "outputs": [
    {
     "name": "stdout",
     "output_type": "stream",
     "text": [
      "sum of odds = 261\n",
      "sum of evens= 334\n"
     ]
    }
   ],
   "source": [
    "list1 = [34,53,234,53,65,67,23,66]\n",
    "even = []\n",
    "odd = []\n",
    "for number in list1 :\n",
    "    if number%2 == 0:\n",
    "        even.append(number)\n",
    "    else:\n",
    "        odd.append(number)\n",
    "print(\"sum of odds =\", sum(odd))\n",
    "print(\"sum of evens=\", sum(even))\n",
    "    "
   ]
  },
  {
   "cell_type": "code",
   "execution_count": 10,
   "id": "7397bdf7-cbc9-435f-b74c-e26a654e8e92",
   "metadata": {},
   "outputs": [
    {
     "name": "stdout",
     "output_type": "stream",
     "text": [
      "[1, 81, 1849]\n"
     ]
    }
   ],
   "source": [
    "my_list = 4,1,9,54,43,534\n",
    "squares_of_odds = [x**2 for x in my_list if x%2!=0]\n",
    "print(squares_of_odds)"
   ]
  },
  {
   "cell_type": "code",
   "execution_count": 11,
   "id": "dd264aea-431f-4891-a379-949e73ac5c16",
   "metadata": {},
   "outputs": [
    {
     "name": "stdout",
     "output_type": "stream",
     "text": [
      "{'a': 1, 'b': 2, 'c': 3, 'd': 4, 'e': 5}\n"
     ]
    }
   ],
   "source": [
    "a = [1,2,3,4,5]\n",
    "b = ['a','b','c','d','e']\n",
    "c={}\n",
    "for i in range(len(a)):\n",
    "    c[b[i]] = a[i]\n",
    "print(c)    "
   ]
  },
  {
   "cell_type": "code",
   "execution_count": 12,
   "id": "83fdee17-a141-4d11-9955-272a645a707e",
   "metadata": {},
   "outputs": [
    {
     "name": "stdin",
     "output_type": "stream",
     "text": [
      "enter any string: abc345hyu678\n"
     ]
    },
    {
     "name": "stdout",
     "output_type": "stream",
     "text": [
      "['3', '4', '5', '6', '7', '8']\n"
     ]
    }
   ],
   "source": [
    "s=input(\"enter any string:\")\n",
    "digit_list = [x for x in s if x.isdigit()]\n",
    "print(digit_list)"
   ]
  },
  {
   "cell_type": "code",
   "execution_count": 13,
   "id": "572fb517-edf1-45fe-9b73-62ba9385775c",
   "metadata": {},
   "outputs": [
    {
     "name": "stdin",
     "output_type": "stream",
     "text": [
      "enter the string 50\n"
     ]
    },
    {
     "name": "stdout",
     "output_type": "stream",
     "text": [
      "2 3 5 7 11 13 17 19 23 29 31 37 41 43 47 "
     ]
    }
   ],
   "source": [
    "def prime_sieve(n):\n",
    "    prime = [0 for i in range(101)]\n",
    "    for i in range(2,n+1):\n",
    "        if prime[i]==0:\n",
    "            for j in range(i*i,n+1,i):\n",
    "                prime[j]=1\n",
    "    for i in range(2,n+1):\n",
    "        if prime[i]==0:\n",
    "            print(i,end= ' ')\n",
    "rng = int(input(\"enter the string\"))\n",
    "prime_sieve(rng)\n",
    "        \n",
    "        "
   ]
  },
  {
   "cell_type": "code",
   "execution_count": 15,
   "id": "56712053-8a90-4757-acb2-43cb49b00c0f",
   "metadata": {},
   "outputs": [
    {
     "name": "stdout",
     "output_type": "stream",
     "text": [
      "[1, 2, 3, 5, 7, 11, 13, 17, 19, 23, 29, 31, 37, 41, 43, 47]\n"
     ]
    }
   ],
   "source": [
    "l= []\n",
    "for i in range (1,50):\n",
    "    for j in range(2,i):\n",
    "        if i%j==0:\n",
    "            break\n",
    "    else:\n",
    "        l.append(i)\n",
    "print(l)        "
   ]
  },
  {
   "cell_type": "code",
   "execution_count": 16,
   "id": "d27d70e4-a823-4b5a-a60d-65f1684700c2",
   "metadata": {},
   "outputs": [
    {
     "name": "stdout",
     "output_type": "stream",
     "text": [
      "the numbers 3, 4 and 5 satisfy the pythagoras theorm.\n",
      "the numbers 4, 3 and 5 satisfy the pythagoras theorm.\n"
     ]
    }
   ],
   "source": [
    "for a in range (1,10):\n",
    "    for b in range(1,10):\n",
    "        for c in range(1,10):\n",
    "            if a*a+b*b == c*c:\n",
    "                print(f'the numbers {a}, {b} and {c} satisfy the pythagoras theorm.')"
   ]
  },
  {
   "cell_type": "code",
   "execution_count": 17,
   "id": "aa98de5d-532f-4e02-95e2-97031b86f24b",
   "metadata": {},
   "outputs": [
    {
     "name": "stdout",
     "output_type": "stream",
     "text": [
      "[(1, 4), (1, 5), (1, 6), (2, 4), (2, 5), (2, 6), (3, 4), (3, 5), (3, 6)]\n"
     ]
    }
   ],
   "source": [
    "x = [1,2,3]\n",
    "y = [4,5,6]\n",
    "l1 = [(a,b) for a in x for b in y]\n",
    "print(l1)"
   ]
  },
  {
   "cell_type": "code",
   "execution_count": 19,
   "id": "e8dc7f65-791d-49d5-a57e-d82e9f311993",
   "metadata": {},
   "outputs": [
    {
     "name": "stdin",
     "output_type": "stream",
     "text": [
      "enter list:  4,6,8\n"
     ]
    },
    {
     "name": "stdout",
     "output_type": "stream",
     "text": [
      "given list is:  (4, 6, 8)\n",
      "the mean of the given list is : 6.0\n"
     ]
    }
   ],
   "source": [
    "l = eval(input(\"enter list: \"))\n",
    "length = len(l)\n",
    "mean = sum = 0\n",
    "for i in range (0,length):\n",
    "    sum+=l[i]\n",
    "mean = sum/length\n",
    "print(\"given list is: \",l)\n",
    "print(\"the mean of the given list is :\" , mean)"
   ]
  },
  {
   "cell_type": "code",
   "execution_count": 20,
   "id": "29add59e-17fb-4657-994f-d17830d51cbd",
   "metadata": {},
   "outputs": [
    {
     "name": "stdout",
     "output_type": "stream",
     "text": [
      "13\n"
     ]
    }
   ],
   "source": [
    "def mode (list_of_nums):\n",
    "    max_count = (0,0)\n",
    "    for num in list_of_nums:\n",
    "        occurences = list_of_nums.count(num)\n",
    "        if occurences > max_count[0]:\n",
    "            max_count = (occurences, num)\n",
    "    return max_count[1]\n",
    "print(mode([13,13,13,14,14,16,18]))"
   ]
  },
  {
   "cell_type": "code",
   "execution_count": 21,
   "id": "b37e0f76-8563-493a-9907-8e9a0c92951b",
   "metadata": {},
   "outputs": [
    {
     "name": "stdout",
     "output_type": "stream",
     "text": [
      "median is : 2.5\n"
     ]
    }
   ],
   "source": [
    "n_num = [1,2,3,4]\n",
    "n = len(n_num)\n",
    "n_num.sort()\n",
    "if n%2==0:\n",
    "    median1 = n_num[n//2]\n",
    "    median2 = n_num[n//2-1]\n",
    "    median =( median1 + median2)/2\n",
    "else:\n",
    "    median = n_num[n//2]\n",
    "print(\"median is : \" + str(median))    "
   ]
  },
  {
   "cell_type": "code",
   "execution_count": 24,
   "id": "f70b0b58-8d3c-4a22-a0a6-857c9f4182bd",
   "metadata": {},
   "outputs": [
    {
     "name": "stdin",
     "output_type": "stream",
     "text": [
      "enter the number of rows-> 6\n"
     ]
    },
    {
     "name": "stdout",
     "output_type": "stream",
     "text": [
      "     1 \n",
      "    1 1 \n",
      "   1 2 1 \n",
      "  1 3 3 1 \n",
      " 1 4 6 4 1 \n",
      "1 5 10 10 5 1 \n"
     ]
    }
   ],
   "source": [
    "rows = int(input(\"enter the number of rows->\"))\n",
    "k=1\n",
    "for i in range(1,rows+1):\n",
    "    for a in range (1,(rows-i)+1):\n",
    "        print(\" \",end= \"\")\n",
    "    for j in range (0,i):\n",
    "        if j==0 or i==0:\n",
    "            k=1\n",
    "        else:\n",
    "            k=k*(i-j)//j\n",
    "        print(k,end=\" \")\n",
    "    print  ()"
   ]
  },
  {
   "cell_type": "code",
   "execution_count": 25,
   "id": "60406f1e-b234-4fb5-ad84-0ba62629fc67",
   "metadata": {},
   "outputs": [
    {
     "name": "stdout",
     "output_type": "stream",
     "text": [
      "python\n"
     ]
    }
   ],
   "source": [
    "my_list = [\"i\" ,\"like\" ,\"python\"]\n",
    "word = None \n",
    "max_length = 0\n",
    "for s in my_list:\n",
    "    if len(s) > max_length:\n",
    "        word = s\n",
    "print(word)        "
   ]
  },
  {
   "cell_type": "code",
   "execution_count": 26,
   "id": "80fa5185-9d8a-41a1-ac6b-94a5261097dc",
   "metadata": {},
   "outputs": [
    {
     "name": "stdin",
     "output_type": "stream",
     "text": [
      "enter the number:  100\n"
     ]
    },
    {
     "name": "stdout",
     "output_type": "stream",
     "text": [
      "sum =  5050\n"
     ]
    }
   ],
   "source": [
    "num = int(input(\"enter the number: \"))\n",
    "sum = 0\n",
    "for i in range (1, num+1):\n",
    "    sum = sum +i\n",
    "    i=i+1\n",
    "print(\"sum = \", sum)    \n",
    "          "
   ]
  },
  {
   "cell_type": "code",
   "execution_count": 28,
   "id": "20f87255-ff10-4f25-bceb-51137d7d161d",
   "metadata": {},
   "outputs": [
    {
     "name": "stdin",
     "output_type": "stream",
     "text": [
      "enter a list: 707,121,985,456,484\n"
     ]
    },
    {
     "name": "stdout",
     "output_type": "stream",
     "text": [
      "all palindrome numbers are:\n",
      "707 121 484 "
     ]
    }
   ],
   "source": [
    "lst = eval(input(\"enter a list:\"))\n",
    "print(\"all palindrome numbers are:\")\n",
    "for num in lst:\n",
    "    n=num\n",
    "    rev=0\n",
    "    while num!=0:\n",
    "        dig=num%10\n",
    "        rev=(rev*10)+dig\n",
    "        num = num//10\n",
    "    if n==rev:\n",
    "        print(n,end=\" \")\n",
    "        "
   ]
  },
  {
   "cell_type": "code",
   "execution_count": null,
   "id": "a8cbe09c-f0f1-4650-ab60-32649d987a86",
   "metadata": {},
   "outputs": [],
   "source": []
  }
 ],
 "metadata": {
  "kernelspec": {
   "display_name": "Python 3 (ipykernel)",
   "language": "python",
   "name": "python3"
  },
  "language_info": {
   "codemirror_mode": {
    "name": "ipython",
    "version": 3
   },
   "file_extension": ".py",
   "mimetype": "text/x-python",
   "name": "python",
   "nbconvert_exporter": "python",
   "pygments_lexer": "ipython3",
   "version": "3.10.8"
  }
 },
 "nbformat": 4,
 "nbformat_minor": 5
}
